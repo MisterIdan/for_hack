{
 "cells": [
  {
   "cell_type": "code",
   "execution_count": null,
   "id": "509d310a",
   "metadata": {},
   "outputs": [],
   "source": [
    "import pandas as pd \n",
    "import numpy as np\n",
    "from PIL import Image\n",
    "import os\n",
    "import cv2\n",
    "\n",
    "import warnings\n",
    "warnings.filterwarnings('ignore')"
   ]
  },
  {
   "cell_type": "code",
   "execution_count": null,
   "id": "49061a02",
   "metadata": {},
   "outputs": [],
   "source": [
    "import tensorflow as tf"
   ]
  },
  {
   "cell_type": "code",
   "execution_count": null,
   "id": "f3ad33ab",
   "metadata": {},
   "outputs": [],
   "source": [
    "df_test = pd.read_csv(\"test.csv\")"
   ]
  },
  {
   "cell_type": "code",
   "execution_count": null,
   "id": "f4783b35",
   "metadata": {},
   "outputs": [],
   "source": [
    "test_path_img_resize = \"test_for_resize\""
   ]
  },
  {
   "cell_type": "code",
   "execution_count": null,
   "id": "d0e82240",
   "metadata": {},
   "outputs": [],
   "source": [
    "model = tf.keras.models.load_model(\"my_model.h5\")"
   ]
  },
  {
   "cell_type": "code",
   "execution_count": null,
   "id": "87fb65d7",
   "metadata": {},
   "outputs": [],
   "source": [
    "width = 128\n",
    "height = 128\n",
    "num_classes = 8"
   ]
  },
  {
   "cell_type": "code",
   "execution_count": null,
   "id": "07670967",
   "metadata": {},
   "outputs": [],
   "source": [
    "# функция предобработки\n",
    "\n",
    "def image_preprocess_rgb(name_image, height, width):\n",
    "\n",
    "    png_rgb = cv2.imread(name_image)\n",
    "    numpy_image = np.array(png_rgb)\n",
    "        \n",
    "    numpy_image = numpy_image / 255\n",
    "    \n",
    "    return numpy_image"
   ]
  },
  {
   "cell_type": "code",
   "execution_count": null,
   "id": "15ad379e",
   "metadata": {},
   "outputs": [],
   "source": [
    "# получение списка с предиктами\n",
    "\n",
    "list_pred = []\n",
    "for itrator_id in range(len(df_test)):\n",
    "    cart = image_preprocess_rgb(test_path_img_resize + \"//\" + str(df_test[\"ID_img\"].iloc[itrator_id]), width, height)\n",
    "    cart = np.expand_dims(cart, axis = 0)\n",
    "    predict = model.predict(cart)\n",
    "    list_pred.append(float(np.argmax(predict)))"
   ]
  },
  {
   "cell_type": "code",
   "execution_count": null,
   "id": "025bd750",
   "metadata": {},
   "outputs": [],
   "source": [
    "df_test[\"class\"] = list_pred"
   ]
  },
  {
   "cell_type": "code",
   "execution_count": null,
   "id": "e73f8e8c",
   "metadata": {},
   "outputs": [],
   "source": [
    "# создание датасета для теста\n",
    "\n",
    "df_test.to_csv(\"test_upload.csv\", sep=',', encoding='utf-8', index=False)"
   ]
  }
 ],
 "metadata": {
  "kernelspec": {
   "display_name": "Python 3 (ipykernel)",
   "language": "python",
   "name": "python3"
  },
  "language_info": {
   "codemirror_mode": {
    "name": "ipython",
    "version": 3
   },
   "file_extension": ".py",
   "mimetype": "text/x-python",
   "name": "python",
   "nbconvert_exporter": "python",
   "pygments_lexer": "ipython3",
   "version": "3.8.8"
  }
 },
 "nbformat": 4,
 "nbformat_minor": 5
}
