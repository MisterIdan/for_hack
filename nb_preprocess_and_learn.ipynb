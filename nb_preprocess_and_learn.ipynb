{
 "cells": [
  {
   "cell_type": "code",
   "execution_count": null,
   "id": "89ee5309",
   "metadata": {},
   "outputs": [],
   "source": [
    "import pandas as pd \n",
    "import numpy as np\n",
    "from PIL import Image\n",
    "import os\n",
    "import seaborn as sns\n",
    "import cv2\n",
    "import random\n",
    "\n",
    "import warnings\n",
    "warnings.filterwarnings('ignore')"
   ]
  },
  {
   "cell_type": "code",
   "execution_count": null,
   "id": "7294995d",
   "metadata": {},
   "outputs": [],
   "source": [
    "from sklearn.model_selection import train_test_split"
   ]
  },
  {
   "cell_type": "code",
   "execution_count": null,
   "id": "8818a5f1",
   "metadata": {},
   "outputs": [],
   "source": [
    "import tensorflow as tf"
   ]
  },
  {
   "cell_type": "code",
   "execution_count": null,
   "id": "ebe680ac",
   "metadata": {},
   "outputs": [],
   "source": [
    "from tensorflow.keras import layers, losses\n",
    "from tensorflow.keras.metrics import Recall\n",
    "from tensorflow.keras.models import Sequential, Model\n",
    "from tensorflow.keras.optimizers import Adam"
   ]
  },
  {
   "cell_type": "code",
   "execution_count": null,
   "id": "94bb662b",
   "metadata": {},
   "outputs": [],
   "source": [
    "path_img = \"train\"\n",
    "test_path_img = \"test\"\n",
    "list_name_img = os.listdir(path_img)"
   ]
  },
  {
   "cell_type": "code",
   "execution_count": null,
   "id": "cb9ff10b",
   "metadata": {},
   "outputs": [],
   "source": [
    "df = pd.read_csv(\"train.csv\")"
   ]
  },
  {
   "cell_type": "code",
   "execution_count": null,
   "id": "380af782",
   "metadata": {},
   "outputs": [],
   "source": [
    "df.info()"
   ]
  },
  {
   "cell_type": "code",
   "execution_count": null,
   "id": "89d51ddd",
   "metadata": {},
   "outputs": [],
   "source": [
    "sns.countplot(x = \"class\", data = df)"
   ]
  },
  {
   "cell_type": "code",
   "execution_count": null,
   "id": "2b44505a",
   "metadata": {},
   "outputs": [],
   "source": [
    "for iterator_class in range(df[\"class\"].nunique()):\n",
    "    print(\"{} примеров класса {}\".format(len(df[df[\"class\"] == iterator_class]), iterator_class))"
   ]
  },
  {
   "cell_type": "code",
   "execution_count": null,
   "id": "9754969c",
   "metadata": {},
   "outputs": [],
   "source": [
    "# Увеличение кол-во примеров с автокранами\n",
    "df_class_0 = pd.concat([df[df[\"class\"] == 0],\n",
    "                        df[df[\"class\"] == 0],\n",
    "                        df[df[\"class\"] == 0],\n",
    "                        df[df[\"class\"] == 0],\n",
    "                        df[df[\"class\"] == 0],\n",
    "                       ],\n",
    "                       \n",
    "                       \n",
    "                       ignore_index=True)\n",
    "\n",
    "list_opperation = []\n",
    "for iterator_operation in range(len(df_class_0)):\n",
    "    if iterator_operation < len(df[df[\"class\"] == 7]):\n",
    "        list_opperation.append(0)\n",
    "    elif len(df[df[\"class\"] == 0]) <= iterator_operation < len(df[df[\"class\"] == 0])*2:\n",
    "        list_opperation.append(1)\n",
    "    elif len(df[df[\"class\"] == 0])*2 <= iterator_operation < len(df[df[\"class\"] == 0])*3:\n",
    "        list_opperation.append(2)\n",
    "    elif len(df[df[\"class\"] == 0])*3 <= iterator_operation < len(df[df[\"class\"] == 0])*4:\n",
    "        list_opperation.append(3)\n",
    "    else:\n",
    "        list_opperation.append(4)\n",
    "        \n",
    "df_class_0[\"operation\"] = list_opperation"
   ]
  },
  {
   "cell_type": "code",
   "execution_count": null,
   "id": "349c7f48",
   "metadata": {},
   "outputs": [],
   "source": [
    "# Уменьшаем кол-во примеров с автомобилями\n",
    "list_index = list(range(1, 1586))\n",
    "random.shuffle(list_index)\n",
    "list_index = list_index[:1550]\n",
    "df_class_1 = df[df[\"class\"] == 1].iloc[list_index]   \n",
    "df_class_1[\"operation\"] = 0"
   ]
  },
  {
   "cell_type": "code",
   "execution_count": null,
   "id": "0c405008",
   "metadata": {},
   "outputs": [],
   "source": [
    "# Увеличение кол-во примеров с экскаваторами\n",
    "df_class_2 = pd.concat([df[df[\"class\"] == 2],\n",
    "                        df[df[\"class\"] == 2],\n",
    "                        df[df[\"class\"] == 2],\n",
    "                        df[df[\"class\"] == 2],\n",
    "                        df[df[\"class\"] == 2]\n",
    "                       ], ignore_index=True)\n",
    "\n",
    "list_opperation = []\n",
    "for iterator_operation in range(len(df_class_2)):\n",
    "    if iterator_operation < len(df[df[\"class\"] == 2]):\n",
    "        list_opperation.append(0)\n",
    "    elif len(df[df[\"class\"] == 2]) <= iterator_operation < len(df[df[\"class\"] == 2])*2:\n",
    "        list_opperation.append(1)\n",
    "    elif len(df[df[\"class\"] == 2])*2 <= iterator_operation < len(df[df[\"class\"] == 2])*3:\n",
    "        list_opperation.append(2)\n",
    "    elif len(df[df[\"class\"] == 2])*3 <= iterator_operation < len(df[df[\"class\"] == 2])*4:\n",
    "        list_opperation.append(3)\n",
    "    else:\n",
    "        list_opperation.append(4)\n",
    "        \n",
    "df_class_2[\"operation\"] = list_opperation"
   ]
  },
  {
   "cell_type": "code",
   "execution_count": null,
   "id": "1ee35d9f",
   "metadata": {},
   "outputs": [],
   "source": [
    "# Увеличение кол-во примеров с людьми\n",
    "\n",
    "df_class_3 = pd.concat([df[df[\"class\"] == 3], df[df[\"class\"] == 3]], ignore_index=True)\n",
    "\n",
    "list_opperation = []\n",
    "for iterator_operation in range(len(df_class_3)):\n",
    "    if iterator_operation < len(df[df[\"class\"] == 3]):\n",
    "        list_opperation.append(0)\n",
    "    elif len(df[df[\"class\"] == 3]) <= iterator_operation < len(df[df[\"class\"] == 3])*2:\n",
    "        list_opperation.append(1)\n",
    "    else:\n",
    "        list_opperation.append(2)\n",
    "        \n",
    "df_class_3[\"operation\"] = list_opperation\n",
    "\n",
    "df_class_3 = df_class_3.iloc[:1550]"
   ]
  },
  {
   "cell_type": "code",
   "execution_count": null,
   "id": "6da10280",
   "metadata": {},
   "outputs": [],
   "source": [
    "# Увеличение кол-во примеров с самосвалами\n",
    "df_class_4 = pd.concat([df[df[\"class\"] == 4], df[df[\"class\"] == 4]], ignore_index=True)\n",
    "\n",
    "list_opperation = []\n",
    "for iterator_operation in range(len(df_class_4)):\n",
    "    if iterator_operation < len(df[df[\"class\"] == 4]):\n",
    "        list_opperation.append(0)\n",
    "    elif len(df[df[\"class\"] == 4]) <= iterator_operation < len(df[df[\"class\"] == 4])*2:\n",
    "        list_opperation.append(1)\n",
    "    else:\n",
    "        list_opperation.append(2)\n",
    "        \n",
    "df_class_4[\"operation\"] = list_opperation\n",
    "\n",
    "# df_class_4 = df_class_4.iloc[:1550]"
   ]
  },
  {
   "cell_type": "code",
   "execution_count": null,
   "id": "b6f3d256",
   "metadata": {},
   "outputs": [],
   "source": [
    "# Увеличение кол-во примеров с карьерными погрузчиками\n",
    "df_class_5 = pd.concat([df[df[\"class\"] == 5],\n",
    "                        df[df[\"class\"] == 5],\n",
    "                        df[df[\"class\"] == 5]], ignore_index=True)\n",
    "\n",
    "list_opperation = []\n",
    "for iterator_operation in range(len(df_class_5)):\n",
    "    if iterator_operation < len(df[df[\"class\"] == 5]):\n",
    "        list_opperation.append(0)\n",
    "    elif len(df[df[\"class\"] == 5]) <= iterator_operation < len(df[df[\"class\"] == 5])*2:\n",
    "        list_opperation.append(1)\n",
    "    else:\n",
    "        list_opperation.append(2)\n",
    "        \n",
    "df_class_5[\"operation\"] = list_opperation\n",
    "df_class_5 = df_class_5.iloc[:1550]"
   ]
  },
  {
   "cell_type": "code",
   "execution_count": null,
   "id": "62dcefbf",
   "metadata": {},
   "outputs": [],
   "source": [
    "# Увеличение кол-во примеров с катками\n",
    "df_class_6 = pd.concat([df[df[\"class\"] == 6],\n",
    "                        df[df[\"class\"] == 6],\n",
    "                        df[df[\"class\"] == 6],\n",
    "                        df[df[\"class\"] == 6],\n",
    "                        df[df[\"class\"] == 6],\n",
    "                        df[df[\"class\"] == 6],\n",
    "                        df[df[\"class\"] == 6],\n",
    "                        df[df[\"class\"] == 6]\n",
    "                       ],\n",
    "                       ignore_index=True)\n",
    "\n",
    "list_opperation = []\n",
    "for iterator_operation in range(len(df_class_6)):\n",
    "    if iterator_operation < len(df[df[\"class\"] == 6]):\n",
    "        list_opperation.append(0)\n",
    "    elif len(df[df[\"class\"] == 6]) <= iterator_operation < len(df[df[\"class\"] == 6])*2:\n",
    "        list_opperation.append(1)\n",
    "    elif len(df[df[\"class\"] == 6])*2 <= iterator_operation < len(df[df[\"class\"] == 6])*3:\n",
    "        list_opperation.append(2)\n",
    "    elif len(df[df[\"class\"] == 6])*3 <= iterator_operation < len(df[df[\"class\"] == 6])*4:\n",
    "        list_opperation.append(3)\n",
    "    elif len(df[df[\"class\"] == 6])*4 <= iterator_operation < len(df[df[\"class\"] == 6])*5:\n",
    "        list_opperation.append(4)\n",
    "    else:\n",
    "        list_opperation.append(0)\n",
    "        \n",
    "df_class_6[\"operation\"] = list_opperation\n",
    "\n",
    "df_class_6 = df_class_6.iloc[:1550]"
   ]
  },
  {
   "cell_type": "code",
   "execution_count": null,
   "id": "ade13863",
   "metadata": {},
   "outputs": [],
   "source": [
    "# Увеличение кол-во примеров с бульдозерами\n",
    "df_class_7 = pd.concat([df[df[\"class\"] == 7],\n",
    "                        df[df[\"class\"] == 7],\n",
    "                        df[df[\"class\"] == 7],\n",
    "                        df[df[\"class\"] == 7],\n",
    "                        df[df[\"class\"] == 7],\n",
    "                        df[df[\"class\"] == 7],\n",
    "                        df[df[\"class\"] == 7],\n",
    "                        df[df[\"class\"] == 7]\n",
    "                       ],\n",
    "                       ignore_index=True)\n",
    "\n",
    "list_opperation = []\n",
    "for iterator_operation in range(len(df_class_7)):\n",
    "    if iterator_operation < len(df[df[\"class\"] == 7]):\n",
    "        list_opperation.append(0)\n",
    "    elif len(df[df[\"class\"] == 7]) <= iterator_operation < len(df[df[\"class\"] == 7])*2:\n",
    "        list_opperation.append(1)\n",
    "    elif len(df[df[\"class\"] == 7])*2 <= iterator_operation < len(df[df[\"class\"] == 7])*3:\n",
    "        list_opperation.append(2)\n",
    "    elif len(df[df[\"class\"] == 7])*4 <= iterator_operation < len(df[df[\"class\"] == 7])*5:\n",
    "        list_opperation.append(4)\n",
    "    else:\n",
    "        list_opperation.append(0)\n",
    "        \n",
    "df_class_7[\"operation\"] = list_opperation\n",
    "\n",
    "df_class_7 = df_class_7.iloc[:1550]"
   ]
  },
  {
   "cell_type": "code",
   "execution_count": null,
   "id": "c7156fd5",
   "metadata": {},
   "outputs": [],
   "source": [
    "# Создание итогового датасета для обучения\n",
    "df = pd.concat([df_class_0,\n",
    "                df_class_1,\n",
    "                df_class_2,\n",
    "                df_class_3,\n",
    "                df_class_4,\n",
    "                df_class_5,\n",
    "                df_class_6,\n",
    "                df_class_7\n",
    "                ],\n",
    "                ignore_index=True)"
   ]
  },
  {
   "cell_type": "code",
   "execution_count": null,
   "id": "8a890690",
   "metadata": {},
   "outputs": [],
   "source": [
    "sns.countplot(x = \"class\", data = df)"
   ]
  },
  {
   "cell_type": "code",
   "execution_count": null,
   "id": "f9bc38df",
   "metadata": {},
   "outputs": [],
   "source": [
    "# Указваем параметры размера для всех изображений и кол-во классов \n",
    "width = 128\n",
    "height = 128\n",
    "num_classes = df[\"class\"].nunique()"
   ]
  },
  {
   "cell_type": "code",
   "execution_count": null,
   "id": "462d75cf",
   "metadata": {},
   "outputs": [],
   "source": [
    "# Функция-заглушка\n",
    "def operation_0(img):\n",
    "    return img"
   ]
  },
  {
   "cell_type": "code",
   "execution_count": null,
   "id": "640a979d",
   "metadata": {},
   "outputs": [],
   "source": [
    "# Функция поворота изображения\n",
    "def rotate_image(img, angle):\n",
    "    image_center = tuple(np.array(img.shape[1::-1]) / 2)\n",
    "    rot_mat = cv2.getRotationMatrix2D(image_center, angle, 1.0)\n",
    "    result = cv2.warpAffine(img, rot_mat, img.shape[1::-1], flags=cv2.INTER_LINEAR)\n",
    "    return result"
   ]
  },
  {
   "cell_type": "code",
   "execution_count": null,
   "id": "ccf91671",
   "metadata": {},
   "outputs": [],
   "source": [
    "# Функция создания шума на изображении\n",
    "def sp_noise(img,prob):\n",
    "    output = np.zeros(img.shape,np.uint8)\n",
    "    thres = 1 - prob \n",
    "    for i in range(img.shape[0]):\n",
    "        for j in range(img.shape[1]):\n",
    "            rdn = random.random()\n",
    "            if rdn < prob:\n",
    "                output[i][j] = 0\n",
    "            elif rdn > thres:\n",
    "                output[i][j] = 255\n",
    "            else:\n",
    "                output[i][j] = img[i][j]\n",
    "    return output"
   ]
  },
  {
   "cell_type": "code",
   "execution_count": null,
   "id": "98fe5070",
   "metadata": {},
   "outputs": [],
   "source": [
    "# Указываем пути для изображений, которым хотим изменить размер\n",
    "path_img_resize = \"train_for_resize\"\n",
    "test_path_img_resize = \"test_for_resize\""
   ]
  },
  {
   "cell_type": "code",
   "execution_count": null,
   "id": "555a606d",
   "metadata": {},
   "outputs": [],
   "source": [
    "# Код для изменения размера\n",
    "\n",
    "# path = \"train_for_resize/\"\n",
    "# dirs = os.listdir(path)\n",
    "\n",
    "# def resize():\n",
    "#     for item in dirs:\n",
    "#         if os.path.isfile(path+item):\n",
    "#             im = Image.open(path+item)\n",
    "#             f, e = os.path.splitext(path+item)\n",
    "#             imResize = im.resize((width,height), Image.ANTIALIAS)\n",
    "#             imResize.save(f + '.jpg', 'JPEG', quality=90)\n",
    "\n",
    "# resize()"
   ]
  },
  {
   "cell_type": "code",
   "execution_count": null,
   "id": "463160a1",
   "metadata": {},
   "outputs": [],
   "source": [
    "# Функция для предобработки изображений\n",
    "\n",
    "def image_preprocess_rgb(name_image, height, width, operation):\n",
    "\n",
    "    png_rgb = cv2.imread(name_image)\n",
    "    numpy_image = np.array(png_rgb)\n",
    "    \n",
    "    if operation == \"0\":\n",
    "        numpy_image = operation_0(numpy_image)\n",
    "    elif operation == \"1\":\n",
    "        numpy_image = rotate_image(numpy_image, 90)\n",
    "    elif operation == \"2\":\n",
    "        numpy_image = rotate_image(numpy_image, -90)\n",
    "    elif operation == \"3\":\n",
    "        numpy_image = sp_noise(numpy_image, 0.1)\n",
    "    elif operation == \"4\":\n",
    "        numpy_image = sp_noise(numpy_image, 0.1)\n",
    "        \n",
    "    numpy_image = numpy_image / 255\n",
    "    \n",
    "    return numpy_image"
   ]
  },
  {
   "cell_type": "code",
   "execution_count": null,
   "id": "faf75550",
   "metadata": {},
   "outputs": [],
   "source": [
    "# Предобработка изображений и получения массива классов\n",
    "\n",
    "list_ar_rgb = []\n",
    "list_class_ar_rgb = []\n",
    "\n",
    "for iterator in range(len(df)):\n",
    "\n",
    "    name_img = path_img_resize + \"/\" + df[\"ID_img\"].iloc[iterator]\n",
    "    name_oper = df[\"operation\"].iloc[iterator:iterator+1]\n",
    "    list_ar_rgb.append(image_preprocess_rgb(name_img, width, height, str(name_oper)))\n",
    "    list_class_ar_rgb.append(int(df[\"class\"].iloc[iterator]))"
   ]
  },
  {
   "cell_type": "code",
   "execution_count": null,
   "id": "3e553ea5",
   "metadata": {},
   "outputs": [],
   "source": [
    "# Получение массивов для обучения\n",
    "\n",
    "list_np_ar_rgb = np.array(list_ar_rgb)\n",
    "list_np_class_ar_rgb = np.array(list_class_ar_rgb)\n",
    "print(\"Массив изображений: \", list_np_ar_rgb.shape)\n",
    "print(\"Массив классов: \", list_np_class_ar_rgb.shape)\n",
    "zeroes_list_np_class_ar_rgb = np.zeros((list_np_class_ar_rgb.size, list_np_class_ar_rgb.max() + 1))\n",
    "zeroes_list_np_class_ar_rgb[np.arange(list_np_class_ar_rgb.size), list_class_ar_rgb] = 1\n",
    "print(\"Массив изображений c добавленной размерностью: \", list_np_ar_rgb.shape)\n",
    "print(\"Массив классов в виде OHE: \", zeroes_list_np_class_ar_rgb.shape)"
   ]
  },
  {
   "cell_type": "code",
   "execution_count": null,
   "id": "3b89021e",
   "metadata": {},
   "outputs": [],
   "source": [
    "# Разбиение данных на массивы\n",
    "\n",
    "x_train, x_test, y_train, y_test = train_test_split(list_np_ar_rgb, zeroes_list_np_class_ar_rgb, test_size=0.1, random_state=5)"
   ]
  },
  {
   "cell_type": "code",
   "execution_count": null,
   "id": "cdc2d0d9",
   "metadata": {},
   "outputs": [],
   "source": [
    "# Создание нейросети на архитектуре vgg19\n",
    "\n",
    "vgg19_model = tf.keras.applications.vgg19.VGG19(include_top=False,\n",
    "                                                  weights='imagenet',\n",
    "                                                  input_shape=(128, 128, 3),\n",
    "                                                  classes=8,\n",
    "                                                  classifier_activation='softmax'\n",
    "                                                )\n",
    "\n",
    "x_vgg19 = layers.Flatten()(vgg19_model.output)\n",
    "\n",
    "x_vgg19 = layers.Dense(height*128, activation='elu')(x_vgg19)\n",
    "x_vgg19 = layers.Dropout(0.2)(x_vgg19)\n",
    "\n",
    "x_vgg19 = layers.Dense(height*64, activation='elu')(x_vgg19)\n",
    "x_vgg19 = layers.Dropout(0.2)(x_vgg19)\n",
    "\n",
    "x_vgg19 = layers.Dense(height*32, activation='elu')(x_vgg19)\n",
    "x_vgg19 = layers.Dropout(0.2)(x_vgg19)\n",
    "\n",
    "x_vgg19 = layers.Dense(height*16, activation='elu')(x_vgg19)\n",
    "x_vgg19 = layers.Dropout(0.2)(x_vgg19)\n",
    "\n",
    "x_vgg19 = layers.Dense(height*8, activation='elu')(x_vgg19)\n",
    "x_vgg19 = layers.Dropout(0.2)(x_vgg19)\n",
    "\n",
    "x_vgg19 = layers.Dense(height*4, activation='elu')(x_vgg19)\n",
    "x_vgg19 = layers.Dropout(0.2)(x_vgg19)\n",
    "\n",
    "x_vgg19 = layers.Dense(num_classes)(x_vgg19)\n",
    "\n",
    "predictions_vgg19 = layers.Activation('softmax')(x_vgg19)\n",
    "\n",
    "main_vgg19_model = Model(inputs = vgg19_model.input, outputs = predictions_vgg19)"
   ]
  },
  {
   "cell_type": "code",
   "execution_count": null,
   "id": "5c016f6a",
   "metadata": {},
   "outputs": [],
   "source": [
    "main_vgg19_model.summary()"
   ]
  },
  {
   "cell_type": "code",
   "execution_count": null,
   "id": "893483cd",
   "metadata": {},
   "outputs": [],
   "source": [
    "# обучение нейросети\n",
    "\n",
    "main_vgg19_model.compile(optimizer=Adam(lr=0.000001), loss='categorical_crossentropy', metrics=[Recall()])\n",
    "main_vgg19_model.fit(x_train, y_train, batch_size=32, epochs=5, validation_data=(x_test, y_test), verbose=1)"
   ]
  },
  {
   "cell_type": "code",
   "execution_count": null,
   "id": "b7b8da3f",
   "metadata": {},
   "outputs": [],
   "source": [
    "# сохранение нейросети\n",
    "\n",
    "main_vgg19_model.save('my_model.h5')"
   ]
  }
 ],
 "metadata": {
  "kernelspec": {
   "display_name": "Python 3 (ipykernel)",
   "language": "python",
   "name": "python3"
  },
  "language_info": {
   "codemirror_mode": {
    "name": "ipython",
    "version": 3
   },
   "file_extension": ".py",
   "mimetype": "text/x-python",
   "name": "python",
   "nbconvert_exporter": "python",
   "pygments_lexer": "ipython3",
   "version": "3.8.8"
  }
 },
 "nbformat": 4,
 "nbformat_minor": 5
}
